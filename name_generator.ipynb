{
  "nbformat": 4,
  "nbformat_minor": 0,
  "metadata": {
    "colab": {
      "provenance": [],
      "collapsed_sections": [
        "i_O2FnLOgxgt",
        "VHCf8QcZgmeM",
        "7rfofRMkitEO",
        "AnNJgT8Xn80x",
        "SR3lcF5gpViJ",
        "rSUVuXs9kABr",
        "jkRyRaaMoFkA",
        "LHmndanTwAaC",
        "MPf-eoCPsP0i",
        "D6lk0TQlsWVe",
        "2xNFqq8htsNJ"
      ]
    },
    "kernelspec": {
      "name": "python3",
      "display_name": "Python 3"
    },
    "language_info": {
      "name": "python"
    }
  },
  "cells": [
    {
      "cell_type": "markdown",
      "source": [
        "# Import'ai #"
      ],
      "metadata": {
        "id": "i_O2FnLOgxgt"
      }
    },
    {
      "cell_type": "code",
      "execution_count": null,
      "metadata": {
        "id": "HFfJ3afA74Xy"
      },
      "outputs": [],
      "source": [
        "import torch\n",
        "import torch.nn as nn\n",
        "import torch.optim as optim\n",
        "import numpy as np\n",
        "import pandas as pd\n",
        "\n",
        "import unicodedata #kirčių panaikinimui varduose\n",
        "import matplotlib.pyplot as plt\n",
        "from collections import Counter\n",
        "from torch.utils.data import DataLoader, Dataset\n",
        "from torch.nn.utils.rnn import pad_sequence\n",
        "\n",
        "import requests #scap'inimui\n",
        "from bs4 import BeautifulSoup #scrap'inimui"
      ]
    },
    {
      "cell_type": "code",
      "source": [
        "if torch.cuda.is_available():\n",
        "  print(\"GPU is available\")\n",
        "  device = torch.device(\"cuda\")\n",
        "else:\n",
        "  print(\"GPU is not available, using CPU instead\")\n",
        "  device = torch.device(\"cpu\")"
      ],
      "metadata": {
        "colab": {
          "base_uri": "https://localhost:8080/"
        },
        "id": "LtJBU1zqvnN9",
        "outputId": "0da39ccd-7444-46cf-a3a6-f3d3ba64d965"
      },
      "execution_count": null,
      "outputs": [
        {
          "output_type": "stream",
          "name": "stdout",
          "text": [
            "GPU is not available, using CPU instead\n"
          ]
        }
      ]
    },
    {
      "cell_type": "markdown",
      "source": [
        "#Vardų scrap'inimas iš vlkk.lt#"
      ],
      "metadata": {
        "id": "VHCf8QcZgmeM"
      }
    },
    {
      "cell_type": "code",
      "source": [
        "vardai_M = []\n",
        "vardai_F = []\n",
        "\n",
        "for key in ['a', 'b', 'c', 'c-2', 'd', 'e', 'f', 'g', 'h', 'i', 'j', 'k', 'l',\n",
        "            'm', 'n', 'o', 'p', 'r', 's', 's-2', 't', 'u', 'v', 'z', 'z-2']:\n",
        "    url_vyro = f'https://vardai.vlkk.lt/sarasas/{key}/?lytis=vyro&kilme='\n",
        "    url_moters =f'https://vardai.vlkk.lt/sarasas/{key}/?lytis=moters&kilme='\n",
        "\n",
        "    #Vyrų vardai\n",
        "    response = requests.get(url_vyro)\n",
        "    soup = BeautifulSoup(response.text, 'html.parser')\n",
        "    vyro_links = soup.find_all('a', class_='names_list__links names_list__links--man')\n",
        "    vardai_M += [name.text for name in vyro_links]\n",
        "\n",
        "    #Moterų vardai\n",
        "    response = requests.get(url_moters)\n",
        "    soup = BeautifulSoup(response.text, 'html.parser')\n",
        "    moters_links = soup.find_all('a', class_='names_list__links names_list__links--woman')\n",
        "    vardai_F += [name.text for name in moters_links]\n",
        "\n",
        "#Išsaugome\n",
        "np.savetxt('vyru_vardai.txt', vardai_M, fmt='%s', header='name', comments='', newline='\\n')\n",
        "np.savetxt('moteru_vardai.txt', vardai_F, fmt='%s', header='name', comments='', newline='\\n')"
      ],
      "metadata": {
        "id": "dPVjEjd9ChT2"
      },
      "execution_count": null,
      "outputs": []
    },
    {
      "cell_type": "markdown",
      "source": [
        "#Kirčių panaikinimas, kad modeliui būtų lengviau mokintis#"
      ],
      "metadata": {
        "id": "7rfofRMkitEO"
      }
    },
    {
      "cell_type": "code",
      "source": [
        "# List of Lithuanian characters to keep\n",
        "keep_chars = \"ąčęėįšųūžĄČĘĖĮŠŲŪŽ\"\n",
        "\n",
        "# Function to remove accents but keep specific characters unchanged\n",
        "def remove_accents(name, keep_chars):\n",
        "    cleaned = []\n",
        "    for char in name:\n",
        "        if char in keep_chars:  # Keep Lithuanian characters as is\n",
        "            cleaned.append(char)\n",
        "        else:\n",
        "            # Normalize and remove accents for other characters\n",
        "            decomposed = unicodedata.normalize('NFD', char)\n",
        "            base_char = ''.join(c for c in decomposed if not unicodedata.combining(c))\n",
        "            cleaned.append(base_char)\n",
        "    return ''.join(cleaned)\n",
        "\n",
        "# Process the names\n",
        "moteru_vardai_no_accents = [remove_accents(name, keep_chars) for name in vardai_F]\n",
        "vyru_vardai_no_accents = [remove_accents(name, keep_chars) for name in vardai_M]\n",
        "\n"
      ],
      "metadata": {
        "id": "6PC6QLjpJHbd"
      },
      "execution_count": null,
      "outputs": []
    },
    {
      "cell_type": "code",
      "source": [
        "np.savetxt('vyru_vardai_no_accents.txt', vyru_vardai_no_accents, fmt='%s', header='name', comments='', newline='\\n')\n",
        "np.savetxt('moteru_vardai_no_accents.txt', moteru_vardai_no_accents, fmt='%s', header='name', comments='', newline='\\n')"
      ],
      "metadata": {
        "id": "v7pLqGNNbzz5"
      },
      "execution_count": null,
      "outputs": []
    },
    {
      "cell_type": "markdown",
      "source": [
        "# Raidžių pasiskirstymas (nėra kirčių)#"
      ],
      "metadata": {
        "id": "AnNJgT8Xn80x"
      }
    },
    {
      "cell_type": "code",
      "source": [
        "def plot_letter_frequency(names, title):\n",
        "    all_letters = ''.join(names).lower()  # Convert all letters to lowercase\n",
        "    letter_counts = Counter(all_letters)\n",
        "    letter_df = pd.DataFrame.from_dict(letter_counts, orient='index', columns=['Frequency'])\n",
        "    letter_df = letter_df.sort_values(by='Frequency', ascending=False)\n",
        "\n",
        "    plt.figure(figsize=(10, 6))\n",
        "    plt.bar(letter_df.index, letter_df['Frequency'])\n",
        "    plt.title(title)\n",
        "    plt.xlabel(\"Letters\")\n",
        "    plt.ylabel(\"Frequency\")\n",
        "    plt.xticks(rotation=0, ha='right')\n",
        "    plt.tight_layout()\n",
        "    plt.show()\n",
        "\n",
        "plot_letter_frequency(vyru_vardai_no_accents, \"Letter Frequency in Male Names\")\n",
        "plot_letter_frequency(moteru_vardai_no_accents, \"Letter Frequency in Female Names\")"
      ],
      "metadata": {
        "colab": {
          "base_uri": "https://localhost:8080/",
          "height": 1000
        },
        "id": "tkW3snaXK3g1",
        "outputId": "f6bde2c6-575d-4756-aab1-c4fbacc1b15a"
      },
      "execution_count": null,
      "outputs": [
        {
          "output_type": "display_data",
          "data": {
            "text/plain": [
              "<Figure size 1000x600 with 1 Axes>"
            ],
            "image/png": "[encoded data removed]"
          },
          "metadata": {}
        },
        {
          "output_type": "display_data",
          "data": {
            "text/plain": [
              "<Figure size 1000x600 with 1 Axes>"
            ],
            "image/png": "[encoded data removed]"
          },
          "metadata": {}
        }
      ]
    },
    {
      "cell_type": "markdown",
      "source": [
        "# Vardų kodavimas skaitmenimis #"
      ],
      "metadata": {
        "id": "SR3lcF5gpViJ"
      }
    },
    {
      "cell_type": "code",
      "source": [
        "class NameDataset(Dataset):\n",
        "    def __init__(self, csv_file):\n",
        "        self.names = pd.read_csv(csv_file)['name'].values\n",
        "        self.chars = sorted(list(set(''.join(self.names) + ' ')))  # Include padding character\n",
        "        self.char_to_int = {c: i for i, c in enumerate(self.chars)}\n",
        "        self.int_to_char = {i: c for c, i in self.char_to_int.items()}\n",
        "        self.vocab_size = len(self.chars)\n",
        "\n",
        "    def __len__(self):\n",
        "        return len(self.names)\n",
        "\n",
        "    def __getitem__(self, idx):\n",
        "        name = self.names[idx] + ' '  # Add padding character at the end\n",
        "        encoded_name = [self.char_to_int[char] for char in name]\n",
        "        return torch.tensor(encoded_name)"
      ],
      "metadata": {
        "id": "4k77hCwlYBa0"
      },
      "execution_count": null,
      "outputs": []
    },
    {
      "cell_type": "code",
      "source": [
        "# Susikuriame užkoduotus vardų dataset'us\n",
        "male_dataset = NameDataset('vyru_vardai_no_accents.txt')\n",
        "female_dataset = NameDataset('moteru_vardai_no_accents.txt')"
      ],
      "metadata": {
        "id": "djyjP9L_icys"
      },
      "execution_count": null,
      "outputs": []
    },
    {
      "cell_type": "markdown",
      "source": [
        "# Pad'ingas ir duomenų data load'eriai #"
      ],
      "metadata": {
        "id": "rSUVuXs9kABr"
      }
    },
    {
      "cell_type": "code",
      "source": [
        "def pad_collate(batch):\n",
        "    padded_seqs = pad_sequence(batch, batch_first=True, padding_value=0)\n",
        "    input_seq = padded_seqs[:, :-1]\n",
        "    target_seq = padded_seqs[:, 1:]\n",
        "    return input_seq, target_seq\n",
        "\n",
        "# Susikuriame vyrų ir moterų vardų dataload'erius\n",
        "male_data_loader = DataLoader(male_dataset, 32, shuffle=True, collate_fn=pad_collate)\n",
        "female_data_loader = DataLoader(female_dataset, 32, shuffle=True, collate_fn=pad_collate)"
      ],
      "metadata": {
        "id": "lUEIsm1eYeab"
      },
      "execution_count": null,
      "outputs": []
    },
    {
      "cell_type": "markdown",
      "source": [
        "# Transformeris #"
      ],
      "metadata": {
        "id": "jkRyRaaMoFkA"
      }
    },
    {
      "cell_type": "code",
      "source": [
        "class MinimalTransformer(nn.Module):\n",
        "    def __init__(self, vocab_size, embed_size, num_heads):\n",
        "        super(MinimalTransformer, self).__init__()\n",
        "        self.embed = nn.Embedding(vocab_size, embed_size)\n",
        "        self.positional_encoding = nn.Parameter(torch.randn(1, 100, embed_size))\n",
        "        self.encoder_layer = nn.TransformerEncoderLayer(d_model=embed_size, nhead=num_heads)\n",
        "        self.transformer_encoder = nn.TransformerEncoder(self.encoder_layer, num_layers=1)\n",
        "        self.output_layer = nn.Linear(embed_size, vocab_size)\n",
        "\n",
        "    def forward(self, x):\n",
        "        x = self.embed(x) + self.positional_encoding[:, :x.size(1), :]\n",
        "        x = self.transformer_encoder(x)\n",
        "        x = self.output_layer(x)\n",
        "        return x"
      ],
      "metadata": {
        "id": "L8KUGam3Yk1O"
      },
      "execution_count": null,
      "outputs": []
    },
    {
      "cell_type": "markdown",
      "source": [
        "# Training architektūra #"
      ],
      "metadata": {
        "id": "LHmndanTwAaC"
      }
    },
    {
      "cell_type": "code",
      "source": [
        "def train_model(model, dataloader, epochs=5):\n",
        "    criterion = nn.CrossEntropyLoss()\n",
        "    optimizer = optim.Adam(model.parameters())\n",
        "\n",
        "    model.to(device)\n",
        "\n",
        "    for epoch in range(epochs):\n",
        "        model.train()\n",
        "        total_loss = 0.0\n",
        "\n",
        "        for input_seq, target_seq in dataloader:\n",
        "            input_seq = input_seq.to(device)\n",
        "            target_seq = target_seq.to(device)\n",
        "\n",
        "            optimizer.zero_grad()\n",
        "            output = model(input_seq)\n",
        "            loss = criterion(output.transpose(1, 2), target_seq)\n",
        "            loss.backward()\n",
        "            optimizer.step()\n",
        "            total_loss += loss.item()\n",
        "\n",
        "        average_loss = total_loss / len(dataloader)\n",
        "        print(f\"Epoch {epoch+1}, Average Loss: {average_loss}\")\n"
      ],
      "metadata": {
        "id": "L8pL4fcuYoDv"
      },
      "execution_count": null,
      "outputs": []
    },
    {
      "cell_type": "markdown",
      "source": [
        "# Modelių treniravimas #"
      ],
      "metadata": {
        "id": "MPf-eoCPsP0i"
      }
    },
    {
      "cell_type": "code",
      "source": [
        "#parametrai\n",
        "EMBED_SIZE_M = 128\n",
        "NUM_HEADS_M = 16\n",
        "EPOCHS_M = 150\n",
        "\n",
        "vyru_model = MinimalTransformer(vocab_size=male_dataset.vocab_size, embed_size=EMBED_SIZE_M, num_heads=NUM_HEADS_M)\n",
        "print(\"\\nTraining Male Names Model:\")\n",
        "train_model(vyru_model, male_data_loader, epochs=EPOCHS_M)\n",
        "\n",
        "# Išsaugome\n",
        "torch.save(vyru_model.state_dict(), 'vyru_model.pth')"
      ],
      "metadata": {
        "colab": {
          "base_uri": "https://localhost:8080/"
        },
        "id": "e_K316V8Yy8j",
        "outputId": "869d2260-44e2-4f45-8ea9-9995f1199dee",
        "collapsed": true
      },
      "execution_count": null,
      "outputs": [
        {
          "output_type": "stream",
          "name": "stderr",
          "text": [
            "/usr/local/lib/python3.10/dist-packages/torch/nn/modules/transformer.py:379: UserWarning: enable_nested_tensor is True, but self.use_nested_tensor is False because encoder_layer.self_attn.batch_first was not True(use batch_first for better inference performance)\n",
            "  warnings.warn(\n"
          ]
        },
        {
          "output_type": "stream",
          "name": "stdout",
          "text": [
            "\n",
            "Training Male Names Model:\n",
            "Epoch 1, Average Loss: 1.3694173580358837\n",
            "Epoch 2, Average Loss: 1.1886560783898534\n",
            "Epoch 3, Average Loss: 1.162587328883242\n",
            "Epoch 4, Average Loss: 1.1466144653391246\n",
            "Epoch 5, Average Loss: 1.143225231939111\n",
            "Epoch 6, Average Loss: 1.1349669497860364\n",
            "Epoch 7, Average Loss: 1.1296855797452374\n",
            "Epoch 8, Average Loss: 1.1382829359740265\n",
            "Epoch 9, Average Loss: 1.1238144823342315\n",
            "Epoch 10, Average Loss: 1.11035887071909\n",
            "Epoch 11, Average Loss: 1.1286570572656047\n",
            "Epoch 12, Average Loss: 1.1177595814397512\n",
            "Epoch 13, Average Loss: 1.123940312665356\n",
            "Epoch 14, Average Loss: 1.1106376657801227\n",
            "Epoch 15, Average Loss: 1.1139726914650152\n",
            "Epoch 16, Average Loss: 1.1147078310162568\n",
            "Epoch 17, Average Loss: 1.1068416587577379\n",
            "Epoch 18, Average Loss: 1.1128251641249853\n",
            "Epoch 19, Average Loss: 1.1045120122018925\n",
            "Epoch 20, Average Loss: 1.105487579649145\n",
            "Epoch 21, Average Loss: 1.1081949142385121\n",
            "Epoch 22, Average Loss: 1.1023439065483975\n",
            "Epoch 23, Average Loss: 1.103397581695525\n",
            "Epoch 24, Average Loss: 1.111007421962486\n",
            "Epoch 25, Average Loss: 1.1122662311743114\n",
            "Epoch 26, Average Loss: 1.1147353575249348\n",
            "Epoch 27, Average Loss: 1.1025479509810772\n",
            "Epoch 28, Average Loss: 1.1117432836658698\n",
            "Epoch 29, Average Loss: 1.104089862551571\n",
            "Epoch 30, Average Loss: 1.1127467519980816\n",
            "Epoch 31, Average Loss: 1.099345105246079\n",
            "Epoch 32, Average Loss: 1.1053916284860659\n",
            "Epoch 33, Average Loss: 1.0959862342550735\n",
            "Epoch 34, Average Loss: 1.1097253900914152\n",
            "Epoch 35, Average Loss: 1.0981553275723102\n",
            "Epoch 36, Average Loss: 1.1040775416311153\n",
            "Epoch 37, Average Loss: 1.0973122440093805\n",
            "Epoch 38, Average Loss: 1.0987179909855866\n",
            "Epoch 39, Average Loss: 1.097893247427034\n",
            "Epoch 40, Average Loss: 1.103623450294999\n",
            "Epoch 41, Average Loss: 1.0976355115244212\n",
            "Epoch 42, Average Loss: 1.0944149878399432\n",
            "Epoch 43, Average Loss: 1.1003387240338918\n",
            "Epoch 44, Average Loss: 1.095393017303845\n",
            "Epoch 45, Average Loss: 1.0966922892026665\n",
            "Epoch 46, Average Loss: 1.0954235526155833\n",
            "Epoch 47, Average Loss: 1.0936039957133206\n",
            "Epoch 48, Average Loss: 1.089264137193191\n",
            "Epoch 49, Average Loss: 1.10300159848426\n",
            "Epoch 50, Average Loss: 1.0978806294685552\n",
            "Epoch 51, Average Loss: 1.0983925343545016\n",
            "Epoch 52, Average Loss: 1.0965949833885698\n",
            "Epoch 53, Average Loss: 1.085468226720479\n",
            "Epoch 54, Average Loss: 1.0966276610193173\n",
            "Epoch 55, Average Loss: 1.090899650222999\n",
            "Epoch 56, Average Loss: 1.0968759084536024\n",
            "Epoch 57, Average Loss: 1.099462852005131\n",
            "Epoch 58, Average Loss: 1.0920408634114858\n",
            "Epoch 59, Average Loss: 1.0919560331943607\n",
            "Epoch 60, Average Loss: 1.0979767215153402\n",
            "Epoch 61, Average Loss: 1.0961518647256963\n",
            "Epoch 62, Average Loss: 1.0969117564603317\n",
            "Epoch 63, Average Loss: 1.0915021246129817\n",
            "Epoch 64, Average Loss: 1.0958588827740063\n",
            "Epoch 65, Average Loss: 1.0930569063533435\n",
            "Epoch 66, Average Loss: 1.099250705281565\n",
            "Epoch 67, Average Loss: 1.0905481946369833\n",
            "Epoch 68, Average Loss: 1.0906742264416591\n",
            "Epoch 69, Average Loss: 1.0915798835517947\n",
            "Epoch 70, Average Loss: 1.0906328223953563\n",
            "Epoch 71, Average Loss: 1.0873582757208957\n",
            "Epoch 72, Average Loss: 1.0959720153453922\n",
            "Epoch 73, Average Loss: 1.092326617437946\n",
            "Epoch 74, Average Loss: 1.0901748897615544\n",
            "Epoch 75, Average Loss: 1.0965275931949459\n",
            "Epoch 76, Average Loss: 1.0898881140819265\n",
            "Epoch 77, Average Loss: 1.0942452175558106\n",
            "Epoch 78, Average Loss: 1.0882812329560272\n",
            "Epoch 79, Average Loss: 1.0883945901531817\n",
            "Epoch 80, Average Loss: 1.085845104426392\n",
            "Epoch 81, Average Loss: 1.0814804178624113\n",
            "Epoch 82, Average Loss: 1.089084854795913\n",
            "Epoch 83, Average Loss: 1.0927467824013766\n",
            "Epoch 84, Average Loss: 1.0929125862673295\n",
            "Epoch 85, Average Loss: 1.0874870956436662\n",
            "Epoch 86, Average Loss: 1.0926570729775862\n",
            "Epoch 87, Average Loss: 1.0935497456345677\n",
            "Epoch 88, Average Loss: 1.0961371251374237\n",
            "Epoch 89, Average Loss: 1.0809981660409407\n",
            "Epoch 90, Average Loss: 1.0881056593469352\n",
            "Epoch 91, Average Loss: 1.0939811916390727\n",
            "Epoch 92, Average Loss: 1.089040378401102\n",
            "Epoch 93, Average Loss: 1.0889937616576832\n",
            "Epoch 94, Average Loss: 1.0841223297040326\n",
            "Epoch 95, Average Loss: 1.0929796932157405\n",
            "Epoch 96, Average Loss: 1.0830313450048779\n",
            "Epoch 97, Average Loss: 1.084894464528265\n",
            "Epoch 98, Average Loss: 1.0935744790991475\n",
            "Epoch 99, Average Loss: 1.0862004057434964\n",
            "Epoch 100, Average Loss: 1.089708596714272\n",
            "Epoch 101, Average Loss: 1.088295018377383\n",
            "Epoch 102, Average Loss: 1.0902153164887232\n",
            "Epoch 103, Average Loss: 1.0874603888220038\n",
            "Epoch 104, Average Loss: 1.0928965324212696\n",
            "Epoch 105, Average Loss: 1.0927987320364014\n",
            "Epoch 106, Average Loss: 1.091540046959869\n",
            "Epoch 107, Average Loss: 1.0832028517053147\n",
            "Epoch 108, Average Loss: 1.08741291347614\n",
            "Epoch 109, Average Loss: 1.0894647457382896\n",
            "Epoch 110, Average Loss: 1.0916140414466542\n",
            "Epoch 111, Average Loss: 1.0835208089883663\n",
            "Epoch 112, Average Loss: 1.088899395682595\n",
            "Epoch 113, Average Loss: 1.0976450152633603\n",
            "Epoch 114, Average Loss: 1.0905585564857672\n",
            "Epoch 115, Average Loss: 1.0874675581277895\n",
            "Epoch 116, Average Loss: 1.0950294649305423\n",
            "Epoch 117, Average Loss: 1.0820567336949436\n",
            "Epoch 118, Average Loss: 1.0905758635071683\n",
            "Epoch 119, Average Loss: 1.0912399232880143\n",
            "Epoch 120, Average Loss: 1.0873884125189348\n",
            "Epoch 121, Average Loss: 1.0866478193889966\n",
            "Epoch 122, Average Loss: 1.0897240820995047\n",
            "Epoch 123, Average Loss: 1.0821663062434552\n",
            "Epoch 124, Average Loss: 1.0904981287057736\n",
            "Epoch 125, Average Loss: 1.084236127285918\n",
            "Epoch 126, Average Loss: 1.0857987679725836\n",
            "Epoch 127, Average Loss: 1.0886543358653045\n",
            "Epoch 128, Average Loss: 1.0877351268263888\n",
            "Epoch 129, Average Loss: 1.0818898796050016\n",
            "Epoch 130, Average Loss: 1.0895862500529645\n",
            "Epoch 131, Average Loss: 1.082364122729656\n",
            "Epoch 132, Average Loss: 1.0916147434021817\n",
            "Epoch 133, Average Loss: 1.0834079296135706\n",
            "Epoch 134, Average Loss: 1.0835633154742974\n",
            "Epoch 135, Average Loss: 1.078475747719284\n",
            "Epoch 136, Average Loss: 1.0820727668517878\n",
            "Epoch 137, Average Loss: 1.085277023886846\n",
            "Epoch 138, Average Loss: 1.0800248872150073\n",
            "Epoch 139, Average Loss: 1.0769909886289235\n",
            "Epoch 140, Average Loss: 1.090191699749182\n",
            "Epoch 141, Average Loss: 1.0812304881978627\n",
            "Epoch 142, Average Loss: 1.081122699355291\n",
            "Epoch 143, Average Loss: 1.083572859606467\n",
            "Epoch 144, Average Loss: 1.0902799747206948\n",
            "Epoch 145, Average Loss: 1.083911138132584\n",
            "Epoch 146, Average Loss: 1.082533749667081\n",
            "Epoch 147, Average Loss: 1.0917938765415476\n",
            "Epoch 148, Average Loss: 1.086631468997514\n",
            "Epoch 149, Average Loss: 1.0843069041070859\n",
            "Epoch 150, Average Loss: 1.0857421194226289\n"
          ]
        }
      ]
    },
    {
      "cell_type": "code",
      "source": [
        "#parametrai\n",
        "EMBED_SIZE_F = 128\n",
        "NUM_HEADS_F = 16\n",
        "EPOCHS_F = 150\n",
        "\n",
        "moteru_model = MinimalTransformer(vocab_size=female_dataset.vocab_size, embed_size=EMBED_SIZE_F, num_heads=NUM_HEADS_F)\n",
        "print(\"\\nTraining Female Names Model:\")\n",
        "train_model(moteru_model, female_data_loader, epochs=EPOCHS_F)\n",
        "\n",
        "# Išsaugome\n",
        "torch.save(moteru_model.state_dict(), 'female_model.pth')"
      ],
      "metadata": {
        "colab": {
          "base_uri": "https://localhost:8080/"
        },
        "id": "b-oz74a6Y0bx",
        "outputId": "f0cf3db8-1313-4633-e7ff-563f5033708d"
      },
      "execution_count": null,
      "outputs": [
        {
          "output_type": "stream",
          "name": "stdout",
          "text": [
            "\n",
            "Training Female Names Model:\n"
          ]
        },
        {
          "output_type": "stream",
          "name": "stderr",
          "text": [
            "/usr/local/lib/python3.10/dist-packages/torch/nn/modules/transformer.py:379: UserWarning: enable_nested_tensor is True, but self.use_nested_tensor is False because encoder_layer.self_attn.batch_first was not True(use batch_first for better inference performance)\n",
            "  warnings.warn(\n"
          ]
        },
        {
          "output_type": "stream",
          "name": "stdout",
          "text": [
            "Epoch 1, Average Loss: 1.4204184300917433\n",
            "Epoch 2, Average Loss: 1.2230828001086873\n",
            "Epoch 3, Average Loss: 1.2074618760804485\n",
            "Epoch 4, Average Loss: 1.1877861829628622\n",
            "Epoch 5, Average Loss: 1.1781700271412843\n",
            "Epoch 6, Average Loss: 1.1727342829668432\n",
            "Epoch 7, Average Loss: 1.1785096821928382\n",
            "Epoch 8, Average Loss: 1.1718181842251827\n",
            "Epoch 9, Average Loss: 1.164028231362651\n",
            "Epoch 10, Average Loss: 1.1713704950827406\n",
            "Epoch 11, Average Loss: 1.172722900272312\n",
            "Epoch 12, Average Loss: 1.1654394649921502\n",
            "Epoch 13, Average Loss: 1.1627376913128042\n",
            "Epoch 14, Average Loss: 1.165501514323672\n",
            "Epoch 15, Average Loss: 1.1574629885809762\n",
            "Epoch 16, Average Loss: 1.1536842226085806\n",
            "Epoch 17, Average Loss: 1.1662178653523438\n",
            "Epoch 18, Average Loss: 1.1573443990901\n",
            "Epoch 19, Average Loss: 1.1535077381851082\n",
            "Epoch 20, Average Loss: 1.1545547574086297\n",
            "Epoch 21, Average Loss: 1.1561165864306284\n",
            "Epoch 22, Average Loss: 1.1523115917256004\n",
            "Epoch 23, Average Loss: 1.1535482921994717\n",
            "Epoch 24, Average Loss: 1.1449990169446271\n",
            "Epoch 25, Average Loss: 1.146617853551879\n",
            "Epoch 26, Average Loss: 1.1502863424164909\n",
            "Epoch 27, Average Loss: 1.1527561339220607\n",
            "Epoch 28, Average Loss: 1.1473767999419593\n",
            "Epoch 29, Average Loss: 1.143163411688984\n",
            "Epoch 30, Average Loss: 1.1486721527307553\n",
            "Epoch 31, Average Loss: 1.1528737177526145\n",
            "Epoch 32, Average Loss: 1.1498131402453085\n",
            "Epoch 33, Average Loss: 1.1458126575426948\n",
            "Epoch 34, Average Loss: 1.150661271765716\n",
            "Epoch 35, Average Loss: 1.1473867713956905\n",
            "Epoch 36, Average Loss: 1.1388795523715198\n",
            "Epoch 37, Average Loss: 1.1502119567161215\n",
            "Epoch 38, Average Loss: 1.1489341926753969\n",
            "Epoch 39, Average Loss: 1.1477658735182052\n",
            "Epoch 40, Average Loss: 1.1510781520291378\n",
            "Epoch 41, Average Loss: 1.146580974410351\n",
            "Epoch 42, Average Loss: 1.1373507564229177\n",
            "Epoch 43, Average Loss: 1.1526223851325816\n",
            "Epoch 44, Average Loss: 1.1377561791498858\n",
            "Epoch 45, Average Loss: 1.1412850788661413\n",
            "Epoch 46, Average Loss: 1.1450657342609607\n",
            "Epoch 47, Average Loss: 1.1386103119168962\n",
            "Epoch 48, Average Loss: 1.1451578848344042\n",
            "Epoch 49, Average Loss: 1.1497688396532733\n",
            "Epoch 50, Average Loss: 1.1369275791304452\n",
            "Epoch 51, Average Loss: 1.1484410054701613\n",
            "Epoch 52, Average Loss: 1.1443765566761332\n",
            "Epoch 53, Average Loss: 1.1451515698791446\n",
            "Epoch 54, Average Loss: 1.1422083037240165\n",
            "Epoch 55, Average Loss: 1.1487527180435066\n",
            "Epoch 56, Average Loss: 1.1364489592107616\n",
            "Epoch 57, Average Loss: 1.1402179854256767\n",
            "Epoch 58, Average Loss: 1.1498915145271702\n",
            "Epoch 59, Average Loss: 1.1402391405930197\n",
            "Epoch 60, Average Loss: 1.14360509331065\n",
            "Epoch 61, Average Loss: 1.1418181115523316\n",
            "Epoch 62, Average Loss: 1.1422995915986542\n",
            "Epoch 63, Average Loss: 1.1458600141052018\n",
            "Epoch 64, Average Loss: 1.1489129339841972\n",
            "Epoch 65, Average Loss: 1.1397623778285837\n",
            "Epoch 66, Average Loss: 1.1354881749117285\n",
            "Epoch 67, Average Loss: 1.1496108039877468\n",
            "Epoch 68, Average Loss: 1.137996886905871\n",
            "Epoch 69, Average Loss: 1.1361901580839229\n",
            "Epoch 70, Average Loss: 1.144301938831358\n",
            "Epoch 71, Average Loss: 1.1339573627127741\n",
            "Epoch 72, Average Loss: 1.1403174857447917\n",
            "Epoch 73, Average Loss: 1.1396992099016232\n",
            "Epoch 74, Average Loss: 1.135513827316743\n",
            "Epoch 75, Average Loss: 1.145220983297305\n",
            "Epoch 76, Average Loss: 1.1370612140884973\n",
            "Epoch 77, Average Loss: 1.1452098744256156\n",
            "Epoch 78, Average Loss: 1.145447705921374\n",
            "Epoch 79, Average Loss: 1.1369989326125698\n",
            "Epoch 80, Average Loss: 1.1368498398845357\n",
            "Epoch 81, Average Loss: 1.1373116132011987\n",
            "Epoch 82, Average Loss: 1.1342283684508245\n",
            "Epoch 83, Average Loss: 1.141117388592627\n",
            "Epoch 84, Average Loss: 1.1366446896603233\n",
            "Epoch 85, Average Loss: 1.1365158575818055\n",
            "Epoch 86, Average Loss: 1.1406606018991399\n",
            "Epoch 87, Average Loss: 1.135707710470472\n",
            "Epoch 88, Average Loss: 1.1426137945705788\n",
            "Epoch 89, Average Loss: 1.141428061445853\n",
            "Epoch 90, Average Loss: 1.1366055912541269\n",
            "Epoch 91, Average Loss: 1.1423107753122659\n",
            "Epoch 92, Average Loss: 1.136171931610968\n",
            "Epoch 93, Average Loss: 1.1423107824827496\n",
            "Epoch 94, Average Loss: 1.1327303652476548\n",
            "Epoch 95, Average Loss: 1.1377669761055393\n",
            "Epoch 96, Average Loss: 1.1379179873860867\n",
            "Epoch 97, Average Loss: 1.1394463172532563\n",
            "Epoch 98, Average Loss: 1.1387945534591388\n",
            "Epoch 99, Average Loss: 1.1374246379486601\n",
            "Epoch 100, Average Loss: 1.1319354898051213\n",
            "Epoch 101, Average Loss: 1.1360622339678885\n",
            "Epoch 102, Average Loss: 1.1333172491618566\n",
            "Epoch 103, Average Loss: 1.1337020831896847\n",
            "Epoch 104, Average Loss: 1.1394129633007193\n",
            "Epoch 105, Average Loss: 1.1425697942425435\n",
            "Epoch 106, Average Loss: 1.1369700888942058\n",
            "Epoch 107, Average Loss: 1.131605505495143\n",
            "Epoch 108, Average Loss: 1.135956188789884\n",
            "Epoch 109, Average Loss: 1.1360186535612982\n",
            "Epoch 110, Average Loss: 1.1350738325513394\n",
            "Epoch 111, Average Loss: 1.1399656507305633\n",
            "Epoch 112, Average Loss: 1.126998361788298\n",
            "Epoch 113, Average Loss: 1.1374414760367315\n",
            "Epoch 114, Average Loss: 1.1380940774329622\n",
            "Epoch 115, Average Loss: 1.1392759582153837\n",
            "Epoch 116, Average Loss: 1.1324381286040284\n",
            "Epoch 117, Average Loss: 1.1316047028491372\n",
            "Epoch 118, Average Loss: 1.1290936228027917\n",
            "Epoch 119, Average Loss: 1.1290639791273533\n",
            "Epoch 120, Average Loss: 1.1345627428893756\n",
            "Epoch 121, Average Loss: 1.133560984206379\n",
            "Epoch 122, Average Loss: 1.133289593054836\n",
            "Epoch 123, Average Loss: 1.127562697668721\n",
            "Epoch 124, Average Loss: 1.1348878409629477\n",
            "Epoch 125, Average Loss: 1.1357718549276654\n",
            "Epoch 126, Average Loss: 1.1282242760622412\n",
            "Epoch 127, Average Loss: 1.1389449023662652\n",
            "Epoch 128, Average Loss: 1.133519204935633\n",
            "Epoch 129, Average Loss: 1.1380901318743712\n",
            "Epoch 130, Average Loss: 1.1357432213941014\n",
            "Epoch 131, Average Loss: 1.1400430032185145\n",
            "Epoch 132, Average Loss: 1.136115933271279\n",
            "Epoch 133, Average Loss: 1.1347189980341976\n",
            "Epoch 134, Average Loss: 1.143016659227529\n",
            "Epoch 135, Average Loss: 1.1280617279217655\n",
            "Epoch 136, Average Loss: 1.1291598789673998\n",
            "Epoch 137, Average Loss: 1.1388968032105524\n",
            "Epoch 138, Average Loss: 1.129113843566493\n",
            "Epoch 139, Average Loss: 1.1310171229498727\n",
            "Epoch 140, Average Loss: 1.1367075250561076\n",
            "Epoch 141, Average Loss: 1.130803188435117\n",
            "Epoch 142, Average Loss: 1.1251539722421116\n",
            "Epoch 143, Average Loss: 1.1247845901582474\n",
            "Epoch 144, Average Loss: 1.1317407860791773\n",
            "Epoch 145, Average Loss: 1.1377034402431403\n",
            "Epoch 146, Average Loss: 1.1291006915551378\n",
            "Epoch 147, Average Loss: 1.1351352782177746\n",
            "Epoch 148, Average Loss: 1.1351297018223239\n",
            "Epoch 149, Average Loss: 1.1336390515019124\n",
            "Epoch 150, Average Loss: 1.1358213984876646\n"
          ]
        }
      ]
    },
    {
      "cell_type": "code",
      "source": [
        "torch.save(vyru_model.state_dict(), 'vyru_model.pth')  # Save the model to a file\n",
        "print(\"Vyrų model saved to 'vyru_model.pth'.\")"
      ],
      "metadata": {
        "colab": {
          "base_uri": "https://localhost:8080/"
        },
        "id": "XjgQQSJcY2on",
        "outputId": "84794d35-064d-45bf-92a0-ccae915cb6e8"
      },
      "execution_count": null,
      "outputs": [
        {
          "output_type": "stream",
          "name": "stdout",
          "text": [
            "Vyrų model saved to 'vyru_model.pth'.\n"
          ]
        }
      ]
    },
    {
      "cell_type": "code",
      "source": [
        "torch.save(moteru_model.state_dict(), 'moteru_model.pth')  # Save the model to a file\n",
        "print(\"Moterų model saved to 'moteru_model.pth'.\")"
      ],
      "metadata": {
        "colab": {
          "base_uri": "https://localhost:8080/"
        },
        "id": "682bHotbY4ji",
        "outputId": "87dae1ef-d8cd-476b-e1b4-e24d745bac6a"
      },
      "execution_count": null,
      "outputs": [
        {
          "output_type": "stream",
          "name": "stdout",
          "text": [
            "Moterų model saved to 'moteru_model.pth'.\n"
          ]
        }
      ]
    },
    {
      "cell_type": "markdown",
      "source": [
        "# Naudosime temperatūrą generuodami naujus vardus #"
      ],
      "metadata": {
        "id": "D6lk0TQlsWVe"
      }
    },
    {
      "cell_type": "code",
      "source": [
        "def sample_with_temperature(model, dataset, start_str='a', max_length=20, k=5, temperature=1.0):\n",
        "    assert temperature > 0, \"Temperature must be greater than 0\"\n",
        "    model.eval()\n",
        "    model.to(device)\n",
        "    with torch.no_grad():\n",
        "        input_seq = torch.tensor([dataset.char_to_int[c] for c in start_str], device=device).unsqueeze(0)\n",
        "        output_name = start_str\n",
        "        for _ in range(max_length - len(start_str)):\n",
        "            output = model(input_seq)\n",
        "            logits = output[0, -1] / temperature\n",
        "            top_k_probs, top_k_indices = torch.topk(torch.softmax(logits, dim=0), k)\n",
        "            next_char_idx = top_k_indices[torch.multinomial(top_k_probs, 1).item()].item()\n",
        "            next_char = dataset.int_to_char[next_char_idx]\n",
        "            if next_char == ' ':\n",
        "                break\n",
        "            output_name += next_char\n",
        "            input_seq = torch.cat([input_seq, torch.tensor([[next_char_idx]], device=device)], dim=1)\n",
        "        return output_name"
      ],
      "metadata": {
        "id": "dk6dvdPoYrrc"
      },
      "execution_count": null,
      "outputs": []
    },
    {
      "cell_type": "markdown",
      "source": [
        "# Testavimas #"
      ],
      "metadata": {
        "id": "2xNFqq8htsNJ"
      }
    },
    {
      "cell_type": "code",
      "source": [
        "print(\"\\n Vyrų vardai:\")\n",
        "for _ in range(10):\n",
        "    print(' ', sample_with_temperature(vyru_model, male_dataset, start_str='F', k=5, temperature=0.5))"
      ],
      "metadata": {
        "colab": {
          "base_uri": "https://localhost:8080/"
        },
        "id": "cng3ECefY6fh",
        "outputId": "3f1f7a99-9148-44dd-bd16-e7092bbed0f9"
      },
      "execution_count": null,
      "outputs": [
        {
          "output_type": "stream",
          "name": "stdout",
          "text": [
            "\n",
            " Vyrų vardai:\n",
            "  Flenanas\n",
            "  Fenis\n",
            "  Fentaus\n",
            "  Finintas\n",
            "  Fledis\n",
            "  Flelis\n",
            "  Fentrijus\n",
            "  Flidas\n",
            "  Fautas\n",
            "  Fermas\n"
          ]
        }
      ]
    },
    {
      "cell_type": "code",
      "source": [
        "print(\"\\n Moterų vardai:\")\n",
        "for _ in range(10):\n",
        "    print(' ', sample_with_temperature(moteru_model, female_dataset, start_str='Os', k=5, temperature=1))"
      ],
      "metadata": {
        "colab": {
          "base_uri": "https://localhost:8080/"
        },
        "id": "VtlGZc0yY88j",
        "outputId": "ebeade41-0d13-4fa4-ac53-bb0a884a779d"
      },
      "execution_count": null,
      "outputs": [
        {
          "output_type": "stream",
          "name": "stdout",
          "text": [
            "\n",
            " Moterų vardai:\n",
            "  Osarona\n",
            "  Osaste\n",
            "  Osmija\n",
            "  Ostandė\n",
            "  Oselija\n",
            "  Osininitūra\n",
            "  Osta\n",
            "  Osa\n",
            "  Osela\n",
            "  Oselia\n"
          ]
        }
      ]
    },
    {
      "cell_type": "markdown",
      "source": [
        "**Išvada - neblogai.**"
      ],
      "metadata": {
        "id": "QUsBz9AiZPRg"
      }
    }
  ]
}